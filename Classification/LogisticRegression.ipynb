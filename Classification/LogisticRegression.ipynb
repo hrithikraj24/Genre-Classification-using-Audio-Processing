{
 "cells": [
  {
   "cell_type": "code",
   "execution_count": 1,
   "metadata": {},
   "outputs": [],
   "source": [
    "import pandas as pd\n",
    "import numpy as np\n",
    "import seaborn as sns\n",
    "%matplotlib inline\n",
    "import matplotlib.pyplot as plt\n",
    "import librosa\n",
    "from sklearn.model_selection import train_test_split\n",
    "from sklearn.preprocessing import LabelEncoder, StandardScaler\n",
    "from sklearn import preprocessing\n",
    "from sklearn.metrics import classification_report"
   ]
  },
  {
   "cell_type": "code",
   "execution_count": 2,
   "metadata": {},
   "outputs": [],
   "source": [
    "data = pd.read_csv('mycsv_combination1.csv')"
   ]
  },
  {
   "cell_type": "code",
   "execution_count": 3,
   "metadata": {},
   "outputs": [
    {
     "data": {
      "text/html": [
       "<div>\n",
       "<style scoped>\n",
       "    .dataframe tbody tr th:only-of-type {\n",
       "        vertical-align: middle;\n",
       "    }\n",
       "\n",
       "    .dataframe tbody tr th {\n",
       "        vertical-align: top;\n",
       "    }\n",
       "\n",
       "    .dataframe thead th {\n",
       "        text-align: right;\n",
       "    }\n",
       "</style>\n",
       "<table border=\"1\" class=\"dataframe\">\n",
       "  <thead>\n",
       "    <tr style=\"text-align: right;\">\n",
       "      <th></th>\n",
       "      <th>filename</th>\n",
       "      <th>zcr_mean</th>\n",
       "      <th>zcr_std</th>\n",
       "      <th>spectral_centroid</th>\n",
       "      <th>mean_spectral_rolloff</th>\n",
       "      <th>std_spectral_rolloff</th>\n",
       "      <th>spectral_bandwidth</th>\n",
       "      <th>chroma_deviation_mean</th>\n",
       "      <th>mfcc1</th>\n",
       "      <th>mfcc2</th>\n",
       "      <th>...</th>\n",
       "      <th>mfcc12</th>\n",
       "      <th>mfcc13</th>\n",
       "      <th>mfcc14</th>\n",
       "      <th>mfcc15</th>\n",
       "      <th>mfcc16</th>\n",
       "      <th>mfcc17</th>\n",
       "      <th>mfcc18</th>\n",
       "      <th>mfcc19</th>\n",
       "      <th>mfcc20</th>\n",
       "      <th>genre</th>\n",
       "    </tr>\n",
       "  </thead>\n",
       "  <tbody>\n",
       "    <tr>\n",
       "      <th>0</th>\n",
       "      <td>blues.00000_1.wav</td>\n",
       "      <td>0.078317</td>\n",
       "      <td>0.013519</td>\n",
       "      <td>1782.622682</td>\n",
       "      <td>3845.075667</td>\n",
       "      <td>912.603923</td>\n",
       "      <td>2020.556328</td>\n",
       "      <td>0.342053</td>\n",
       "      <td>-125.188171</td>\n",
       "      <td>120.222138</td>\n",
       "      <td>...</td>\n",
       "      <td>9.301556</td>\n",
       "      <td>-4.159669</td>\n",
       "      <td>7.119120</td>\n",
       "      <td>-5.663028</td>\n",
       "      <td>0.530103</td>\n",
       "      <td>-2.870996</td>\n",
       "      <td>0.306077</td>\n",
       "      <td>-2.700369</td>\n",
       "      <td>2.370232</td>\n",
       "      <td>blues</td>\n",
       "    </tr>\n",
       "    <tr>\n",
       "      <th>1</th>\n",
       "      <td>blues.00000_2.wav</td>\n",
       "      <td>0.079108</td>\n",
       "      <td>0.015145</td>\n",
       "      <td>1803.133844</td>\n",
       "      <td>3903.829836</td>\n",
       "      <td>1059.169428</td>\n",
       "      <td>2043.208033</td>\n",
       "      <td>0.366391</td>\n",
       "      <td>-104.649918</td>\n",
       "      <td>122.307770</td>\n",
       "      <td>...</td>\n",
       "      <td>10.479907</td>\n",
       "      <td>-4.333720</td>\n",
       "      <td>5.224412</td>\n",
       "      <td>-6.193036</td>\n",
       "      <td>0.677548</td>\n",
       "      <td>-0.946113</td>\n",
       "      <td>-0.170836</td>\n",
       "      <td>-2.291198</td>\n",
       "      <td>1.508931</td>\n",
       "      <td>blues</td>\n",
       "    </tr>\n",
       "    <tr>\n",
       "      <th>2</th>\n",
       "      <td>blues.00000_3.wav</td>\n",
       "      <td>0.085122</td>\n",
       "      <td>0.017463</td>\n",
       "      <td>1767.406536</td>\n",
       "      <td>3672.610197</td>\n",
       "      <td>846.426471</td>\n",
       "      <td>1944.426261</td>\n",
       "      <td>0.341613</td>\n",
       "      <td>-112.962753</td>\n",
       "      <td>125.089889</td>\n",
       "      <td>...</td>\n",
       "      <td>8.887646</td>\n",
       "      <td>-4.576091</td>\n",
       "      <td>6.926960</td>\n",
       "      <td>-5.516427</td>\n",
       "      <td>2.762216</td>\n",
       "      <td>-2.871219</td>\n",
       "      <td>0.118136</td>\n",
       "      <td>-3.230836</td>\n",
       "      <td>0.995681</td>\n",
       "      <td>blues</td>\n",
       "    </tr>\n",
       "    <tr>\n",
       "      <th>3</th>\n",
       "      <td>blues.00001_1.wav</td>\n",
       "      <td>0.054409</td>\n",
       "      <td>0.028735</td>\n",
       "      <td>1364.273766</td>\n",
       "      <td>2976.303348</td>\n",
       "      <td>1565.934901</td>\n",
       "      <td>1842.030467</td>\n",
       "      <td>0.358000</td>\n",
       "      <td>-221.931198</td>\n",
       "      <td>131.147629</td>\n",
       "      <td>...</td>\n",
       "      <td>6.931743</td>\n",
       "      <td>-1.881995</td>\n",
       "      <td>4.951429</td>\n",
       "      <td>-4.531081</td>\n",
       "      <td>-0.463962</td>\n",
       "      <td>0.497853</td>\n",
       "      <td>0.039326</td>\n",
       "      <td>-1.083576</td>\n",
       "      <td>-0.112309</td>\n",
       "      <td>blues</td>\n",
       "    </tr>\n",
       "    <tr>\n",
       "      <th>4</th>\n",
       "      <td>blues.00001_2.wav</td>\n",
       "      <td>0.051896</td>\n",
       "      <td>0.017981</td>\n",
       "      <td>1581.277785</td>\n",
       "      <td>3786.371459</td>\n",
       "      <td>1798.029729</td>\n",
       "      <td>2125.234003</td>\n",
       "      <td>0.346125</td>\n",
       "      <td>-222.168320</td>\n",
       "      <td>124.332985</td>\n",
       "      <td>...</td>\n",
       "      <td>9.272532</td>\n",
       "      <td>-3.031386</td>\n",
       "      <td>3.856776</td>\n",
       "      <td>-7.838705</td>\n",
       "      <td>4.567084</td>\n",
       "      <td>0.114600</td>\n",
       "      <td>-0.367247</td>\n",
       "      <td>-2.646990</td>\n",
       "      <td>1.118412</td>\n",
       "      <td>blues</td>\n",
       "    </tr>\n",
       "  </tbody>\n",
       "</table>\n",
       "<p>5 rows × 29 columns</p>\n",
       "</div>"
      ],
      "text/plain": [
       "            filename  zcr_mean   zcr_std  spectral_centroid  \\\n",
       "0  blues.00000_1.wav  0.078317  0.013519        1782.622682   \n",
       "1  blues.00000_2.wav  0.079108  0.015145        1803.133844   \n",
       "2  blues.00000_3.wav  0.085122  0.017463        1767.406536   \n",
       "3  blues.00001_1.wav  0.054409  0.028735        1364.273766   \n",
       "4  blues.00001_2.wav  0.051896  0.017981        1581.277785   \n",
       "\n",
       "   mean_spectral_rolloff  std_spectral_rolloff  spectral_bandwidth  \\\n",
       "0            3845.075667            912.603923         2020.556328   \n",
       "1            3903.829836           1059.169428         2043.208033   \n",
       "2            3672.610197            846.426471         1944.426261   \n",
       "3            2976.303348           1565.934901         1842.030467   \n",
       "4            3786.371459           1798.029729         2125.234003   \n",
       "\n",
       "   chroma_deviation_mean       mfcc1       mfcc2  ...     mfcc12    mfcc13  \\\n",
       "0               0.342053 -125.188171  120.222138  ...   9.301556 -4.159669   \n",
       "1               0.366391 -104.649918  122.307770  ...  10.479907 -4.333720   \n",
       "2               0.341613 -112.962753  125.089889  ...   8.887646 -4.576091   \n",
       "3               0.358000 -221.931198  131.147629  ...   6.931743 -1.881995   \n",
       "4               0.346125 -222.168320  124.332985  ...   9.272532 -3.031386   \n",
       "\n",
       "     mfcc14    mfcc15    mfcc16    mfcc17    mfcc18    mfcc19    mfcc20  genre  \n",
       "0  7.119120 -5.663028  0.530103 -2.870996  0.306077 -2.700369  2.370232  blues  \n",
       "1  5.224412 -6.193036  0.677548 -0.946113 -0.170836 -2.291198  1.508931  blues  \n",
       "2  6.926960 -5.516427  2.762216 -2.871219  0.118136 -3.230836  0.995681  blues  \n",
       "3  4.951429 -4.531081 -0.463962  0.497853  0.039326 -1.083576 -0.112309  blues  \n",
       "4  3.856776 -7.838705  4.567084  0.114600 -0.367247 -2.646990  1.118412  blues  \n",
       "\n",
       "[5 rows x 29 columns]"
      ]
     },
     "execution_count": 3,
     "metadata": {},
     "output_type": "execute_result"
    }
   ],
   "source": [
    "data.head()"
   ]
  },
  {
   "cell_type": "code",
   "execution_count": 4,
   "metadata": {
    "scrolled": true
   },
   "outputs": [
    {
     "data": {
      "text/html": [
       "<div>\n",
       "<style scoped>\n",
       "    .dataframe tbody tr th:only-of-type {\n",
       "        vertical-align: middle;\n",
       "    }\n",
       "\n",
       "    .dataframe tbody tr th {\n",
       "        vertical-align: top;\n",
       "    }\n",
       "\n",
       "    .dataframe thead th {\n",
       "        text-align: right;\n",
       "    }\n",
       "</style>\n",
       "<table border=\"1\" class=\"dataframe\">\n",
       "  <thead>\n",
       "    <tr style=\"text-align: right;\">\n",
       "      <th></th>\n",
       "      <th>filename</th>\n",
       "      <th>zcr_mean</th>\n",
       "      <th>zcr_std</th>\n",
       "      <th>spectral_centroid</th>\n",
       "      <th>mean_spectral_rolloff</th>\n",
       "      <th>std_spectral_rolloff</th>\n",
       "      <th>spectral_bandwidth</th>\n",
       "      <th>chroma_deviation_mean</th>\n",
       "      <th>mfcc1</th>\n",
       "      <th>mfcc2</th>\n",
       "      <th>...</th>\n",
       "      <th>mfcc12</th>\n",
       "      <th>mfcc13</th>\n",
       "      <th>mfcc14</th>\n",
       "      <th>mfcc15</th>\n",
       "      <th>mfcc16</th>\n",
       "      <th>mfcc17</th>\n",
       "      <th>mfcc18</th>\n",
       "      <th>mfcc19</th>\n",
       "      <th>mfcc20</th>\n",
       "      <th>genre</th>\n",
       "    </tr>\n",
       "  </thead>\n",
       "  <tbody>\n",
       "    <tr>\n",
       "      <th>1492</th>\n",
       "      <td>jazz.00098_2.wav</td>\n",
       "      <td>0.050595</td>\n",
       "      <td>0.009305</td>\n",
       "      <td>1807.598106</td>\n",
       "      <td>4289.853720</td>\n",
       "      <td>1147.859370</td>\n",
       "      <td>2222.639378</td>\n",
       "      <td>0.321665</td>\n",
       "      <td>-227.044724</td>\n",
       "      <td>105.362564</td>\n",
       "      <td>...</td>\n",
       "      <td>5.419219</td>\n",
       "      <td>-6.999210</td>\n",
       "      <td>11.470878</td>\n",
       "      <td>-2.689366</td>\n",
       "      <td>5.063530</td>\n",
       "      <td>-5.359029</td>\n",
       "      <td>2.529504</td>\n",
       "      <td>-3.319819</td>\n",
       "      <td>-1.006656</td>\n",
       "      <td>jazz</td>\n",
       "    </tr>\n",
       "    <tr>\n",
       "      <th>1493</th>\n",
       "      <td>jazz.00098_3.wav</td>\n",
       "      <td>0.059316</td>\n",
       "      <td>0.021986</td>\n",
       "      <td>1909.562159</td>\n",
       "      <td>4294.325232</td>\n",
       "      <td>1361.041052</td>\n",
       "      <td>2207.546533</td>\n",
       "      <td>0.330465</td>\n",
       "      <td>-218.353332</td>\n",
       "      <td>103.453430</td>\n",
       "      <td>...</td>\n",
       "      <td>7.290617</td>\n",
       "      <td>-8.355414</td>\n",
       "      <td>8.698535</td>\n",
       "      <td>-3.281262</td>\n",
       "      <td>1.643310</td>\n",
       "      <td>-6.466950</td>\n",
       "      <td>1.387281</td>\n",
       "      <td>-3.625082</td>\n",
       "      <td>-0.706655</td>\n",
       "      <td>jazz</td>\n",
       "    </tr>\n",
       "    <tr>\n",
       "      <th>1494</th>\n",
       "      <td>jazz.00099_1.wav</td>\n",
       "      <td>0.055292</td>\n",
       "      <td>0.011767</td>\n",
       "      <td>1565.928626</td>\n",
       "      <td>3449.858954</td>\n",
       "      <td>1260.568547</td>\n",
       "      <td>2019.006177</td>\n",
       "      <td>0.232849</td>\n",
       "      <td>-319.476288</td>\n",
       "      <td>106.496826</td>\n",
       "      <td>...</td>\n",
       "      <td>7.524374</td>\n",
       "      <td>1.587386</td>\n",
       "      <td>9.227055</td>\n",
       "      <td>4.688363</td>\n",
       "      <td>6.219578</td>\n",
       "      <td>0.082846</td>\n",
       "      <td>-2.712755</td>\n",
       "      <td>-0.211232</td>\n",
       "      <td>-5.939939</td>\n",
       "      <td>jazz</td>\n",
       "    </tr>\n",
       "    <tr>\n",
       "      <th>1495</th>\n",
       "      <td>jazz.00099_2.wav</td>\n",
       "      <td>0.045029</td>\n",
       "      <td>0.011114</td>\n",
       "      <td>1610.067873</td>\n",
       "      <td>3740.981864</td>\n",
       "      <td>1757.163229</td>\n",
       "      <td>2103.502534</td>\n",
       "      <td>0.343664</td>\n",
       "      <td>-310.751801</td>\n",
       "      <td>109.405144</td>\n",
       "      <td>...</td>\n",
       "      <td>3.201554</td>\n",
       "      <td>-4.778470</td>\n",
       "      <td>0.736856</td>\n",
       "      <td>-1.972026</td>\n",
       "      <td>3.669686</td>\n",
       "      <td>0.069257</td>\n",
       "      <td>2.487818</td>\n",
       "      <td>6.514359</td>\n",
       "      <td>1.936086</td>\n",
       "      <td>jazz</td>\n",
       "    </tr>\n",
       "    <tr>\n",
       "      <th>1496</th>\n",
       "      <td>jazz.00099_3.wav</td>\n",
       "      <td>0.034861</td>\n",
       "      <td>0.008091</td>\n",
       "      <td>1300.279921</td>\n",
       "      <td>2936.159662</td>\n",
       "      <td>1358.895458</td>\n",
       "      <td>1919.265624</td>\n",
       "      <td>0.314124</td>\n",
       "      <td>-315.395447</td>\n",
       "      <td>123.248039</td>\n",
       "      <td>...</td>\n",
       "      <td>3.926532</td>\n",
       "      <td>-5.409730</td>\n",
       "      <td>1.883183</td>\n",
       "      <td>-0.566266</td>\n",
       "      <td>0.462495</td>\n",
       "      <td>-6.770334</td>\n",
       "      <td>-3.255106</td>\n",
       "      <td>-1.100209</td>\n",
       "      <td>-2.447814</td>\n",
       "      <td>jazz</td>\n",
       "    </tr>\n",
       "  </tbody>\n",
       "</table>\n",
       "<p>5 rows × 29 columns</p>\n",
       "</div>"
      ],
      "text/plain": [
       "              filename  zcr_mean   zcr_std  spectral_centroid  \\\n",
       "1492  jazz.00098_2.wav  0.050595  0.009305        1807.598106   \n",
       "1493  jazz.00098_3.wav  0.059316  0.021986        1909.562159   \n",
       "1494  jazz.00099_1.wav  0.055292  0.011767        1565.928626   \n",
       "1495  jazz.00099_2.wav  0.045029  0.011114        1610.067873   \n",
       "1496  jazz.00099_3.wav  0.034861  0.008091        1300.279921   \n",
       "\n",
       "      mean_spectral_rolloff  std_spectral_rolloff  spectral_bandwidth  \\\n",
       "1492            4289.853720           1147.859370         2222.639378   \n",
       "1493            4294.325232           1361.041052         2207.546533   \n",
       "1494            3449.858954           1260.568547         2019.006177   \n",
       "1495            3740.981864           1757.163229         2103.502534   \n",
       "1496            2936.159662           1358.895458         1919.265624   \n",
       "\n",
       "      chroma_deviation_mean       mfcc1       mfcc2  ...    mfcc12    mfcc13  \\\n",
       "1492               0.321665 -227.044724  105.362564  ...  5.419219 -6.999210   \n",
       "1493               0.330465 -218.353332  103.453430  ...  7.290617 -8.355414   \n",
       "1494               0.232849 -319.476288  106.496826  ...  7.524374  1.587386   \n",
       "1495               0.343664 -310.751801  109.405144  ...  3.201554 -4.778470   \n",
       "1496               0.314124 -315.395447  123.248039  ...  3.926532 -5.409730   \n",
       "\n",
       "         mfcc14    mfcc15    mfcc16    mfcc17    mfcc18    mfcc19    mfcc20  \\\n",
       "1492  11.470878 -2.689366  5.063530 -5.359029  2.529504 -3.319819 -1.006656   \n",
       "1493   8.698535 -3.281262  1.643310 -6.466950  1.387281 -3.625082 -0.706655   \n",
       "1494   9.227055  4.688363  6.219578  0.082846 -2.712755 -0.211232 -5.939939   \n",
       "1495   0.736856 -1.972026  3.669686  0.069257  2.487818  6.514359  1.936086   \n",
       "1496   1.883183 -0.566266  0.462495 -6.770334 -3.255106 -1.100209 -2.447814   \n",
       "\n",
       "      genre  \n",
       "1492   jazz  \n",
       "1493   jazz  \n",
       "1494   jazz  \n",
       "1495   jazz  \n",
       "1496   jazz  \n",
       "\n",
       "[5 rows x 29 columns]"
      ]
     },
     "execution_count": 4,
     "metadata": {},
     "output_type": "execute_result"
    }
   ],
   "source": [
    "data.tail()"
   ]
  },
  {
   "cell_type": "code",
   "execution_count": 5,
   "metadata": {},
   "outputs": [],
   "source": [
    "#model-logistic-regression\n",
    "from sklearn.linear_model import LogisticRegression"
   ]
  },
  {
   "cell_type": "code",
   "execution_count": 6,
   "metadata": {},
   "outputs": [
    {
     "data": {
      "text/plain": [
       "(1497, 28)"
      ]
     },
     "execution_count": 6,
     "metadata": {},
     "output_type": "execute_result"
    }
   ],
   "source": [
    "dataset = data[data['genre'].isin(['blues', 'classical','country','hiphop','jazz'])].drop(['filename'],axis=1)\n",
    "dataset.shape"
   ]
  },
  {
   "cell_type": "code",
   "execution_count": 7,
   "metadata": {
    "scrolled": false
   },
   "outputs": [
    {
     "name": "stdout",
     "output_type": "stream",
     "text": [
      "[0 0 0 ... 4 4 4]\n"
     ]
    },
    {
     "data": {
      "text/plain": [
       "(1497,)"
      ]
     },
     "execution_count": 7,
     "metadata": {},
     "output_type": "execute_result"
    }
   ],
   "source": [
    "y = LabelEncoder().fit_transform(dataset.iloc[:,-1])\n",
    "print(y)\n",
    "y.shape"
   ]
  },
  {
   "cell_type": "code",
   "execution_count": 8,
   "metadata": {
    "scrolled": true
   },
   "outputs": [
    {
     "name": "stdout",
     "output_type": "stream",
     "text": [
      "[[-0.13251553 -0.6530739  -0.11453394 ...  0.0785806  -0.12563547\n",
      "   0.89747518]\n",
      " [-0.11010467 -0.52101128 -0.08376836 ... -0.02468127 -0.03258611\n",
      "   0.71636755]\n",
      " [ 0.06034908 -0.33271922 -0.13735729 ...  0.03788734 -0.24626846\n",
      "   0.60844543]\n",
      " ...\n",
      " [-0.78505778 -0.79541252 -0.43956275 ... -0.5750611   0.44041709\n",
      "  -0.84992208]\n",
      " [-1.07591588 -0.84841252 -0.37335638 ...  0.55097387  1.96987773\n",
      "   0.80618627]\n",
      " [-1.36409003 -1.09403469 -0.83802076 ... -0.69249166  0.2382555\n",
      "  -0.11562557]]\n"
     ]
    },
    {
     "data": {
      "text/plain": [
       "(1497, 27)"
      ]
     },
     "execution_count": 8,
     "metadata": {},
     "output_type": "execute_result"
    }
   ],
   "source": [
    "x = StandardScaler().fit_transform(np.array(dataset.iloc[:, :-1], dtype = float))\n",
    "print(x)\n",
    "x.shape"
   ]
  },
  {
   "cell_type": "code",
   "execution_count": 9,
   "metadata": {},
   "outputs": [
    {
     "name": "stdout",
     "output_type": "stream",
     "text": [
      "Train set: (1197, 27) (1197,)\n",
      "Test set: (300, 27) (300,)\n"
     ]
    }
   ],
   "source": [
    "x_train, x_test, y_train, y_test = train_test_split(x,y,test_size=0.20,random_state=42)\n",
    "print ('Train set:', x_train.shape,  y_train.shape)\n",
    "print ('Test set:', x_test.shape,  y_test.shape)"
   ]
  },
  {
   "cell_type": "code",
   "execution_count": 10,
   "metadata": {
    "scrolled": false
   },
   "outputs": [
    {
     "data": {
      "text/plain": [
       "LogisticRegression(C=0.01)"
      ]
     },
     "execution_count": 10,
     "metadata": {},
     "output_type": "execute_result"
    }
   ],
   "source": [
    "logreg = LogisticRegression(C=0.01, solver='lbfgs', verbose=0 ,multi_class='auto').fit(x_train,y_train)\n",
    "logreg"
   ]
  },
  {
   "cell_type": "code",
   "execution_count": 11,
   "metadata": {
    "scrolled": true
   },
   "outputs": [
    {
     "data": {
      "text/plain": [
       "array([2, 0, 2, 4, 0, 0, 2, 2, 1, 0, 0, 3, 4, 4, 4, 0, 2, 3, 1, 0, 1, 1,\n",
       "       0, 4, 1, 1, 3, 4, 4, 2, 0, 1, 2, 0, 0, 2, 1, 4, 1, 4, 1, 0, 3, 3,\n",
       "       1, 1, 3, 4, 1, 4, 3, 3, 1, 1, 1, 2, 4, 3, 0, 4, 3, 4, 0, 4, 2, 1,\n",
       "       1, 4, 4, 4, 3, 3, 3, 1, 3, 1, 1, 2, 0, 1, 3, 4, 0, 2, 0, 0, 3, 4,\n",
       "       2, 4, 2, 1, 3, 3, 3, 0, 1, 0, 1, 3, 0, 2, 0, 1, 4, 4, 4, 0, 0, 3,\n",
       "       1, 3, 2, 1, 0, 1, 2, 4, 0, 3, 2, 1, 4, 3, 0, 3, 2, 2, 2, 0, 0, 0,\n",
       "       1, 3, 1, 0, 3, 4, 3, 0, 1, 0, 4, 3, 0, 1, 3, 4, 2, 4, 3, 3, 1, 1,\n",
       "       2, 4, 1, 2, 4, 1, 3, 4, 1, 0, 0, 4, 0, 0, 1, 3, 3, 1, 3, 0, 2, 1,\n",
       "       3, 1, 2, 2, 3, 0, 4, 2, 0, 3, 0, 1, 1, 0, 2, 4, 4, 0, 0, 4, 0, 2,\n",
       "       3, 3, 3, 1, 0, 3, 3, 0, 3, 1, 1, 4, 0, 2, 3, 3, 2, 1, 2, 4, 0, 2,\n",
       "       4, 3, 3, 0, 4, 1, 4, 4, 4, 1, 1, 3, 4, 3, 0, 4, 4, 2, 0, 3, 2, 2,\n",
       "       0, 4, 0, 3, 4, 3, 3, 3, 2, 2, 3, 1, 4, 3, 3, 3, 3, 3, 0, 2, 3, 3,\n",
       "       3, 1, 0, 1, 3, 4, 4, 1, 2, 3, 2, 3, 1, 2, 3, 4, 4, 2, 3, 0, 3, 0,\n",
       "       0, 0, 4, 2, 4, 0, 3, 4, 3, 1, 4, 3, 4, 1])"
      ]
     },
     "execution_count": 11,
     "metadata": {},
     "output_type": "execute_result"
    }
   ],
   "source": [
    "y_pred = logreg.predict(x_test)\n",
    "y_pred"
   ]
  },
  {
   "cell_type": "code",
   "execution_count": 12,
   "metadata": {},
   "outputs": [
    {
     "name": "stdout",
     "output_type": "stream",
     "text": [
      "Logistic Regression's Accuracy: 1.000\n"
     ]
    }
   ],
   "source": [
    "print(\"Logistic Regression's Accuracy: %.3f\" % logreg.score(x_test,y_pred))"
   ]
  },
  {
   "cell_type": "code",
   "execution_count": 13,
   "metadata": {},
   "outputs": [
    {
     "name": "stdout",
     "output_type": "stream",
     "text": [
      "              precision    recall  f1-score   support\n",
      "\n",
      "           0       0.63      0.70      0.66        56\n",
      "           1       0.92      0.92      0.92        59\n",
      "           2       0.67      0.56      0.61        54\n",
      "           3       0.81      0.85      0.83        71\n",
      "           4       0.62      0.62      0.62        60\n",
      "\n",
      "    accuracy                           0.73       300\n",
      "   macro avg       0.73      0.73      0.73       300\n",
      "weighted avg       0.73      0.73      0.73       300\n",
      "\n"
     ]
    }
   ],
   "source": [
    "print (classification_report(y_test, y_pred))"
   ]
  }
 ],
 "metadata": {
  "kernelspec": {
   "display_name": "Python 3",
   "language": "python",
   "name": "python3"
  },
  "language_info": {
   "codemirror_mode": {
    "name": "ipython",
    "version": 3
   },
   "file_extension": ".py",
   "mimetype": "text/x-python",
   "name": "python",
   "nbconvert_exporter": "python",
   "pygments_lexer": "ipython3",
   "version": "3.8.5"
  }
 },
 "nbformat": 4,
 "nbformat_minor": 2
}
