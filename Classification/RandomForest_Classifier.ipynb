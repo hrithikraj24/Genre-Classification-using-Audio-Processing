{
 "cells": [
  {
   "cell_type": "code",
   "execution_count": 2,
   "metadata": {},
   "outputs": [],
   "source": [
    "import pandas as pd\n",
    "import numpy as np\n",
    "import seaborn as sns\n",
    "%matplotlib inline\n",
    "import matplotlib.pyplot as plt\n",
    "import librosa"
   ]
  },
  {
   "cell_type": "code",
   "execution_count": 3,
   "metadata": {},
   "outputs": [],
   "source": [
    "data = pd.read_csv('mycsv_combination1.csv')"
   ]
  },
  {
   "cell_type": "code",
   "execution_count": 4,
   "metadata": {},
   "outputs": [
    {
     "data": {
      "text/html": [
       "<div>\n",
       "<style scoped>\n",
       "    .dataframe tbody tr th:only-of-type {\n",
       "        vertical-align: middle;\n",
       "    }\n",
       "\n",
       "    .dataframe tbody tr th {\n",
       "        vertical-align: top;\n",
       "    }\n",
       "\n",
       "    .dataframe thead th {\n",
       "        text-align: right;\n",
       "    }\n",
       "</style>\n",
       "<table border=\"1\" class=\"dataframe\">\n",
       "  <thead>\n",
       "    <tr style=\"text-align: right;\">\n",
       "      <th></th>\n",
       "      <th>filename</th>\n",
       "      <th>zcr_mean</th>\n",
       "      <th>zcr_std</th>\n",
       "      <th>spectral_centroid</th>\n",
       "      <th>mean_spectral_rolloff</th>\n",
       "      <th>std_spectral_rolloff</th>\n",
       "      <th>spectral_bandwidth</th>\n",
       "      <th>chroma_deviation_mean</th>\n",
       "      <th>mfcc1</th>\n",
       "      <th>mfcc2</th>\n",
       "      <th>...</th>\n",
       "      <th>mfcc12</th>\n",
       "      <th>mfcc13</th>\n",
       "      <th>mfcc14</th>\n",
       "      <th>mfcc15</th>\n",
       "      <th>mfcc16</th>\n",
       "      <th>mfcc17</th>\n",
       "      <th>mfcc18</th>\n",
       "      <th>mfcc19</th>\n",
       "      <th>mfcc20</th>\n",
       "      <th>genre</th>\n",
       "    </tr>\n",
       "  </thead>\n",
       "  <tbody>\n",
       "    <tr>\n",
       "      <th>0</th>\n",
       "      <td>blues.00000_1.wav</td>\n",
       "      <td>0.078317</td>\n",
       "      <td>0.013519</td>\n",
       "      <td>1782.622682</td>\n",
       "      <td>3845.075667</td>\n",
       "      <td>912.603923</td>\n",
       "      <td>2020.556328</td>\n",
       "      <td>0.342053</td>\n",
       "      <td>-125.188171</td>\n",
       "      <td>120.222138</td>\n",
       "      <td>...</td>\n",
       "      <td>9.301556</td>\n",
       "      <td>-4.159669</td>\n",
       "      <td>7.119120</td>\n",
       "      <td>-5.663028</td>\n",
       "      <td>0.530103</td>\n",
       "      <td>-2.870996</td>\n",
       "      <td>0.306077</td>\n",
       "      <td>-2.700369</td>\n",
       "      <td>2.370232</td>\n",
       "      <td>blues</td>\n",
       "    </tr>\n",
       "    <tr>\n",
       "      <th>1</th>\n",
       "      <td>blues.00000_2.wav</td>\n",
       "      <td>0.079108</td>\n",
       "      <td>0.015145</td>\n",
       "      <td>1803.133844</td>\n",
       "      <td>3903.829836</td>\n",
       "      <td>1059.169428</td>\n",
       "      <td>2043.208033</td>\n",
       "      <td>0.366391</td>\n",
       "      <td>-104.649918</td>\n",
       "      <td>122.307770</td>\n",
       "      <td>...</td>\n",
       "      <td>10.479907</td>\n",
       "      <td>-4.333720</td>\n",
       "      <td>5.224412</td>\n",
       "      <td>-6.193036</td>\n",
       "      <td>0.677548</td>\n",
       "      <td>-0.946113</td>\n",
       "      <td>-0.170836</td>\n",
       "      <td>-2.291198</td>\n",
       "      <td>1.508931</td>\n",
       "      <td>blues</td>\n",
       "    </tr>\n",
       "    <tr>\n",
       "      <th>2</th>\n",
       "      <td>blues.00000_3.wav</td>\n",
       "      <td>0.085122</td>\n",
       "      <td>0.017463</td>\n",
       "      <td>1767.406536</td>\n",
       "      <td>3672.610197</td>\n",
       "      <td>846.426471</td>\n",
       "      <td>1944.426261</td>\n",
       "      <td>0.341613</td>\n",
       "      <td>-112.962753</td>\n",
       "      <td>125.089889</td>\n",
       "      <td>...</td>\n",
       "      <td>8.887646</td>\n",
       "      <td>-4.576091</td>\n",
       "      <td>6.926960</td>\n",
       "      <td>-5.516427</td>\n",
       "      <td>2.762216</td>\n",
       "      <td>-2.871219</td>\n",
       "      <td>0.118136</td>\n",
       "      <td>-3.230836</td>\n",
       "      <td>0.995681</td>\n",
       "      <td>blues</td>\n",
       "    </tr>\n",
       "    <tr>\n",
       "      <th>3</th>\n",
       "      <td>blues.00001_1.wav</td>\n",
       "      <td>0.054409</td>\n",
       "      <td>0.028735</td>\n",
       "      <td>1364.273766</td>\n",
       "      <td>2976.303348</td>\n",
       "      <td>1565.934901</td>\n",
       "      <td>1842.030467</td>\n",
       "      <td>0.358000</td>\n",
       "      <td>-221.931198</td>\n",
       "      <td>131.147629</td>\n",
       "      <td>...</td>\n",
       "      <td>6.931743</td>\n",
       "      <td>-1.881995</td>\n",
       "      <td>4.951429</td>\n",
       "      <td>-4.531081</td>\n",
       "      <td>-0.463962</td>\n",
       "      <td>0.497853</td>\n",
       "      <td>0.039326</td>\n",
       "      <td>-1.083576</td>\n",
       "      <td>-0.112309</td>\n",
       "      <td>blues</td>\n",
       "    </tr>\n",
       "    <tr>\n",
       "      <th>4</th>\n",
       "      <td>blues.00001_2.wav</td>\n",
       "      <td>0.051896</td>\n",
       "      <td>0.017981</td>\n",
       "      <td>1581.277785</td>\n",
       "      <td>3786.371459</td>\n",
       "      <td>1798.029729</td>\n",
       "      <td>2125.234003</td>\n",
       "      <td>0.346125</td>\n",
       "      <td>-222.168320</td>\n",
       "      <td>124.332985</td>\n",
       "      <td>...</td>\n",
       "      <td>9.272532</td>\n",
       "      <td>-3.031386</td>\n",
       "      <td>3.856776</td>\n",
       "      <td>-7.838705</td>\n",
       "      <td>4.567084</td>\n",
       "      <td>0.114600</td>\n",
       "      <td>-0.367247</td>\n",
       "      <td>-2.646990</td>\n",
       "      <td>1.118412</td>\n",
       "      <td>blues</td>\n",
       "    </tr>\n",
       "  </tbody>\n",
       "</table>\n",
       "<p>5 rows × 29 columns</p>\n",
       "</div>"
      ],
      "text/plain": [
       "            filename  zcr_mean   zcr_std  spectral_centroid  \\\n",
       "0  blues.00000_1.wav  0.078317  0.013519        1782.622682   \n",
       "1  blues.00000_2.wav  0.079108  0.015145        1803.133844   \n",
       "2  blues.00000_3.wav  0.085122  0.017463        1767.406536   \n",
       "3  blues.00001_1.wav  0.054409  0.028735        1364.273766   \n",
       "4  blues.00001_2.wav  0.051896  0.017981        1581.277785   \n",
       "\n",
       "   mean_spectral_rolloff  std_spectral_rolloff  spectral_bandwidth  \\\n",
       "0            3845.075667            912.603923         2020.556328   \n",
       "1            3903.829836           1059.169428         2043.208033   \n",
       "2            3672.610197            846.426471         1944.426261   \n",
       "3            2976.303348           1565.934901         1842.030467   \n",
       "4            3786.371459           1798.029729         2125.234003   \n",
       "\n",
       "   chroma_deviation_mean       mfcc1       mfcc2  ...     mfcc12    mfcc13  \\\n",
       "0               0.342053 -125.188171  120.222138  ...   9.301556 -4.159669   \n",
       "1               0.366391 -104.649918  122.307770  ...  10.479907 -4.333720   \n",
       "2               0.341613 -112.962753  125.089889  ...   8.887646 -4.576091   \n",
       "3               0.358000 -221.931198  131.147629  ...   6.931743 -1.881995   \n",
       "4               0.346125 -222.168320  124.332985  ...   9.272532 -3.031386   \n",
       "\n",
       "     mfcc14    mfcc15    mfcc16    mfcc17    mfcc18    mfcc19    mfcc20  genre  \n",
       "0  7.119120 -5.663028  0.530103 -2.870996  0.306077 -2.700369  2.370232  blues  \n",
       "1  5.224412 -6.193036  0.677548 -0.946113 -0.170836 -2.291198  1.508931  blues  \n",
       "2  6.926960 -5.516427  2.762216 -2.871219  0.118136 -3.230836  0.995681  blues  \n",
       "3  4.951429 -4.531081 -0.463962  0.497853  0.039326 -1.083576 -0.112309  blues  \n",
       "4  3.856776 -7.838705  4.567084  0.114600 -0.367247 -2.646990  1.118412  blues  \n",
       "\n",
       "[5 rows x 29 columns]"
      ]
     },
     "execution_count": 4,
     "metadata": {},
     "output_type": "execute_result"
    }
   ],
   "source": [
    "data.head()"
   ]
  },
  {
   "cell_type": "code",
   "execution_count": 5,
   "metadata": {},
   "outputs": [
    {
     "data": {
      "text/html": [
       "<div>\n",
       "<style scoped>\n",
       "    .dataframe tbody tr th:only-of-type {\n",
       "        vertical-align: middle;\n",
       "    }\n",
       "\n",
       "    .dataframe tbody tr th {\n",
       "        vertical-align: top;\n",
       "    }\n",
       "\n",
       "    .dataframe thead th {\n",
       "        text-align: right;\n",
       "    }\n",
       "</style>\n",
       "<table border=\"1\" class=\"dataframe\">\n",
       "  <thead>\n",
       "    <tr style=\"text-align: right;\">\n",
       "      <th></th>\n",
       "      <th>filename</th>\n",
       "      <th>zcr_mean</th>\n",
       "      <th>zcr_std</th>\n",
       "      <th>spectral_centroid</th>\n",
       "      <th>mean_spectral_rolloff</th>\n",
       "      <th>std_spectral_rolloff</th>\n",
       "      <th>spectral_bandwidth</th>\n",
       "      <th>chroma_deviation_mean</th>\n",
       "      <th>mfcc1</th>\n",
       "      <th>mfcc2</th>\n",
       "      <th>...</th>\n",
       "      <th>mfcc12</th>\n",
       "      <th>mfcc13</th>\n",
       "      <th>mfcc14</th>\n",
       "      <th>mfcc15</th>\n",
       "      <th>mfcc16</th>\n",
       "      <th>mfcc17</th>\n",
       "      <th>mfcc18</th>\n",
       "      <th>mfcc19</th>\n",
       "      <th>mfcc20</th>\n",
       "      <th>genre</th>\n",
       "    </tr>\n",
       "  </thead>\n",
       "  <tbody>\n",
       "    <tr>\n",
       "      <th>600</th>\n",
       "      <td>country.00000_1.wav</td>\n",
       "      <td>0.080519</td>\n",
       "      <td>0.017473</td>\n",
       "      <td>2819.800049</td>\n",
       "      <td>6448.619784</td>\n",
       "      <td>1570.999600</td>\n",
       "      <td>2925.729118</td>\n",
       "      <td>0.370986</td>\n",
       "      <td>-43.021893</td>\n",
       "      <td>67.550041</td>\n",
       "      <td>...</td>\n",
       "      <td>2.061060</td>\n",
       "      <td>-5.234131</td>\n",
       "      <td>5.801379</td>\n",
       "      <td>-2.821017</td>\n",
       "      <td>-4.420733</td>\n",
       "      <td>-2.597391</td>\n",
       "      <td>-0.229270</td>\n",
       "      <td>-2.795935</td>\n",
       "      <td>2.108862</td>\n",
       "      <td>country</td>\n",
       "    </tr>\n",
       "    <tr>\n",
       "      <th>601</th>\n",
       "      <td>country.00000_2.wav</td>\n",
       "      <td>0.112371</td>\n",
       "      <td>0.032983</td>\n",
       "      <td>2749.132774</td>\n",
       "      <td>5912.712816</td>\n",
       "      <td>1211.464210</td>\n",
       "      <td>2753.587325</td>\n",
       "      <td>0.382176</td>\n",
       "      <td>-15.715791</td>\n",
       "      <td>71.201767</td>\n",
       "      <td>...</td>\n",
       "      <td>0.903474</td>\n",
       "      <td>-3.268460</td>\n",
       "      <td>4.529911</td>\n",
       "      <td>1.296606</td>\n",
       "      <td>1.485304</td>\n",
       "      <td>1.255232</td>\n",
       "      <td>4.404094</td>\n",
       "      <td>3.992464</td>\n",
       "      <td>4.719677</td>\n",
       "      <td>country</td>\n",
       "    </tr>\n",
       "    <tr>\n",
       "      <th>602</th>\n",
       "      <td>country.00000_3.wav</td>\n",
       "      <td>0.121288</td>\n",
       "      <td>0.014552</td>\n",
       "      <td>2820.340164</td>\n",
       "      <td>6289.943559</td>\n",
       "      <td>1160.858748</td>\n",
       "      <td>2862.307242</td>\n",
       "      <td>0.400083</td>\n",
       "      <td>-10.689507</td>\n",
       "      <td>72.129890</td>\n",
       "      <td>...</td>\n",
       "      <td>3.319655</td>\n",
       "      <td>-1.588233</td>\n",
       "      <td>5.109632</td>\n",
       "      <td>1.041479</td>\n",
       "      <td>4.094818</td>\n",
       "      <td>3.135822</td>\n",
       "      <td>7.915074</td>\n",
       "      <td>1.599272</td>\n",
       "      <td>5.473392</td>\n",
       "      <td>country</td>\n",
       "    </tr>\n",
       "    <tr>\n",
       "      <th>603</th>\n",
       "      <td>country.00001_1.wav</td>\n",
       "      <td>0.127026</td>\n",
       "      <td>0.016523</td>\n",
       "      <td>2909.443994</td>\n",
       "      <td>6163.117489</td>\n",
       "      <td>909.170387</td>\n",
       "      <td>2804.870729</td>\n",
       "      <td>0.419803</td>\n",
       "      <td>-7.132031</td>\n",
       "      <td>63.992458</td>\n",
       "      <td>...</td>\n",
       "      <td>7.701502</td>\n",
       "      <td>2.521705</td>\n",
       "      <td>1.748470</td>\n",
       "      <td>1.686096</td>\n",
       "      <td>1.870440</td>\n",
       "      <td>-5.453578</td>\n",
       "      <td>-0.006098</td>\n",
       "      <td>-2.043387</td>\n",
       "      <td>1.861921</td>\n",
       "      <td>country</td>\n",
       "    </tr>\n",
       "    <tr>\n",
       "      <th>604</th>\n",
       "      <td>country.00001_2.wav</td>\n",
       "      <td>0.120898</td>\n",
       "      <td>0.015286</td>\n",
       "      <td>2917.085944</td>\n",
       "      <td>6153.100303</td>\n",
       "      <td>911.086520</td>\n",
       "      <td>2805.295499</td>\n",
       "      <td>0.411122</td>\n",
       "      <td>-6.359461</td>\n",
       "      <td>63.009571</td>\n",
       "      <td>...</td>\n",
       "      <td>7.395860</td>\n",
       "      <td>-1.507475</td>\n",
       "      <td>-1.988605</td>\n",
       "      <td>1.198390</td>\n",
       "      <td>4.748946</td>\n",
       "      <td>-1.280202</td>\n",
       "      <td>3.322682</td>\n",
       "      <td>-1.133800</td>\n",
       "      <td>1.177961</td>\n",
       "      <td>country</td>\n",
       "    </tr>\n",
       "    <tr>\n",
       "      <th>605</th>\n",
       "      <td>country.00001_3.wav</td>\n",
       "      <td>0.124084</td>\n",
       "      <td>0.013995</td>\n",
       "      <td>2987.075736</td>\n",
       "      <td>6520.163976</td>\n",
       "      <td>362.685352</td>\n",
       "      <td>2908.563397</td>\n",
       "      <td>0.416814</td>\n",
       "      <td>-10.391706</td>\n",
       "      <td>61.187374</td>\n",
       "      <td>...</td>\n",
       "      <td>4.535053</td>\n",
       "      <td>1.148615</td>\n",
       "      <td>-5.143793</td>\n",
       "      <td>-0.341865</td>\n",
       "      <td>2.360657</td>\n",
       "      <td>-1.525513</td>\n",
       "      <td>5.171364</td>\n",
       "      <td>-2.063982</td>\n",
       "      <td>-0.144985</td>\n",
       "      <td>country</td>\n",
       "    </tr>\n",
       "    <tr>\n",
       "      <th>606</th>\n",
       "      <td>country.00002_1.wav</td>\n",
       "      <td>0.086243</td>\n",
       "      <td>0.028833</td>\n",
       "      <td>2508.011843</td>\n",
       "      <td>5545.549220</td>\n",
       "      <td>1451.109348</td>\n",
       "      <td>2718.020611</td>\n",
       "      <td>0.302205</td>\n",
       "      <td>-115.894852</td>\n",
       "      <td>75.680191</td>\n",
       "      <td>...</td>\n",
       "      <td>1.001812</td>\n",
       "      <td>-8.605026</td>\n",
       "      <td>0.985488</td>\n",
       "      <td>-1.572381</td>\n",
       "      <td>-0.210791</td>\n",
       "      <td>-5.103870</td>\n",
       "      <td>0.236772</td>\n",
       "      <td>-6.950533</td>\n",
       "      <td>0.253880</td>\n",
       "      <td>country</td>\n",
       "    </tr>\n",
       "    <tr>\n",
       "      <th>607</th>\n",
       "      <td>country.00002_2.wav</td>\n",
       "      <td>0.057652</td>\n",
       "      <td>0.018420</td>\n",
       "      <td>1979.110035</td>\n",
       "      <td>4375.686766</td>\n",
       "      <td>872.809537</td>\n",
       "      <td>2413.441874</td>\n",
       "      <td>0.295375</td>\n",
       "      <td>-131.029678</td>\n",
       "      <td>88.085396</td>\n",
       "      <td>...</td>\n",
       "      <td>-0.393426</td>\n",
       "      <td>-5.103136</td>\n",
       "      <td>0.922178</td>\n",
       "      <td>-2.032236</td>\n",
       "      <td>0.167929</td>\n",
       "      <td>-4.039874</td>\n",
       "      <td>-0.781462</td>\n",
       "      <td>-1.881397</td>\n",
       "      <td>-4.208170</td>\n",
       "      <td>country</td>\n",
       "    </tr>\n",
       "    <tr>\n",
       "      <th>608</th>\n",
       "      <td>country.00002_3.wav</td>\n",
       "      <td>0.073599</td>\n",
       "      <td>0.019627</td>\n",
       "      <td>2434.413961</td>\n",
       "      <td>5647.070029</td>\n",
       "      <td>1204.413849</td>\n",
       "      <td>2723.289350</td>\n",
       "      <td>0.291851</td>\n",
       "      <td>-115.183945</td>\n",
       "      <td>74.203369</td>\n",
       "      <td>...</td>\n",
       "      <td>0.209543</td>\n",
       "      <td>-6.401222</td>\n",
       "      <td>2.996181</td>\n",
       "      <td>-1.626749</td>\n",
       "      <td>-1.976313</td>\n",
       "      <td>-5.391642</td>\n",
       "      <td>-0.296836</td>\n",
       "      <td>-7.303443</td>\n",
       "      <td>-1.806602</td>\n",
       "      <td>country</td>\n",
       "    </tr>\n",
       "    <tr>\n",
       "      <th>609</th>\n",
       "      <td>country.00003_1.wav</td>\n",
       "      <td>0.102017</td>\n",
       "      <td>0.027740</td>\n",
       "      <td>2074.056455</td>\n",
       "      <td>4132.376559</td>\n",
       "      <td>1457.463435</td>\n",
       "      <td>2223.621100</td>\n",
       "      <td>0.354914</td>\n",
       "      <td>-62.617123</td>\n",
       "      <td>100.064446</td>\n",
       "      <td>...</td>\n",
       "      <td>0.655703</td>\n",
       "      <td>1.915242</td>\n",
       "      <td>-1.470602</td>\n",
       "      <td>2.306845</td>\n",
       "      <td>5.743078</td>\n",
       "      <td>-3.093472</td>\n",
       "      <td>1.697398</td>\n",
       "      <td>-3.177227</td>\n",
       "      <td>-4.288508</td>\n",
       "      <td>country</td>\n",
       "    </tr>\n",
       "  </tbody>\n",
       "</table>\n",
       "<p>10 rows × 29 columns</p>\n",
       "</div>"
      ],
      "text/plain": [
       "                filename  zcr_mean   zcr_std  spectral_centroid  \\\n",
       "600  country.00000_1.wav  0.080519  0.017473        2819.800049   \n",
       "601  country.00000_2.wav  0.112371  0.032983        2749.132774   \n",
       "602  country.00000_3.wav  0.121288  0.014552        2820.340164   \n",
       "603  country.00001_1.wav  0.127026  0.016523        2909.443994   \n",
       "604  country.00001_2.wav  0.120898  0.015286        2917.085944   \n",
       "605  country.00001_3.wav  0.124084  0.013995        2987.075736   \n",
       "606  country.00002_1.wav  0.086243  0.028833        2508.011843   \n",
       "607  country.00002_2.wav  0.057652  0.018420        1979.110035   \n",
       "608  country.00002_3.wav  0.073599  0.019627        2434.413961   \n",
       "609  country.00003_1.wav  0.102017  0.027740        2074.056455   \n",
       "\n",
       "     mean_spectral_rolloff  std_spectral_rolloff  spectral_bandwidth  \\\n",
       "600            6448.619784           1570.999600         2925.729118   \n",
       "601            5912.712816           1211.464210         2753.587325   \n",
       "602            6289.943559           1160.858748         2862.307242   \n",
       "603            6163.117489            909.170387         2804.870729   \n",
       "604            6153.100303            911.086520         2805.295499   \n",
       "605            6520.163976            362.685352         2908.563397   \n",
       "606            5545.549220           1451.109348         2718.020611   \n",
       "607            4375.686766            872.809537         2413.441874   \n",
       "608            5647.070029           1204.413849         2723.289350   \n",
       "609            4132.376559           1457.463435         2223.621100   \n",
       "\n",
       "     chroma_deviation_mean       mfcc1       mfcc2  ...    mfcc12    mfcc13  \\\n",
       "600               0.370986  -43.021893   67.550041  ...  2.061060 -5.234131   \n",
       "601               0.382176  -15.715791   71.201767  ...  0.903474 -3.268460   \n",
       "602               0.400083  -10.689507   72.129890  ...  3.319655 -1.588233   \n",
       "603               0.419803   -7.132031   63.992458  ...  7.701502  2.521705   \n",
       "604               0.411122   -6.359461   63.009571  ...  7.395860 -1.507475   \n",
       "605               0.416814  -10.391706   61.187374  ...  4.535053  1.148615   \n",
       "606               0.302205 -115.894852   75.680191  ...  1.001812 -8.605026   \n",
       "607               0.295375 -131.029678   88.085396  ... -0.393426 -5.103136   \n",
       "608               0.291851 -115.183945   74.203369  ...  0.209543 -6.401222   \n",
       "609               0.354914  -62.617123  100.064446  ...  0.655703  1.915242   \n",
       "\n",
       "       mfcc14    mfcc15    mfcc16    mfcc17    mfcc18    mfcc19    mfcc20  \\\n",
       "600  5.801379 -2.821017 -4.420733 -2.597391 -0.229270 -2.795935  2.108862   \n",
       "601  4.529911  1.296606  1.485304  1.255232  4.404094  3.992464  4.719677   \n",
       "602  5.109632  1.041479  4.094818  3.135822  7.915074  1.599272  5.473392   \n",
       "603  1.748470  1.686096  1.870440 -5.453578 -0.006098 -2.043387  1.861921   \n",
       "604 -1.988605  1.198390  4.748946 -1.280202  3.322682 -1.133800  1.177961   \n",
       "605 -5.143793 -0.341865  2.360657 -1.525513  5.171364 -2.063982 -0.144985   \n",
       "606  0.985488 -1.572381 -0.210791 -5.103870  0.236772 -6.950533  0.253880   \n",
       "607  0.922178 -2.032236  0.167929 -4.039874 -0.781462 -1.881397 -4.208170   \n",
       "608  2.996181 -1.626749 -1.976313 -5.391642 -0.296836 -7.303443 -1.806602   \n",
       "609 -1.470602  2.306845  5.743078 -3.093472  1.697398 -3.177227 -4.288508   \n",
       "\n",
       "       genre  \n",
       "600  country  \n",
       "601  country  \n",
       "602  country  \n",
       "603  country  \n",
       "604  country  \n",
       "605  country  \n",
       "606  country  \n",
       "607  country  \n",
       "608  country  \n",
       "609  country  \n",
       "\n",
       "[10 rows x 29 columns]"
      ]
     },
     "execution_count": 5,
     "metadata": {},
     "output_type": "execute_result"
    }
   ],
   "source": [
    "data[data['genre']=='country'][0:10]"
   ]
  },
  {
   "cell_type": "code",
   "execution_count": 180,
   "metadata": {},
   "outputs": [
    {
     "data": {
      "text/plain": [
       "(2997, 28)"
      ]
     },
     "execution_count": 180,
     "metadata": {},
     "output_type": "execute_result"
    }
   ],
   "source": [
    "#All 10 genres\n",
    "dataset = data[data['genre'].isin(['jazz', 'classical', 'blues', 'country', 'hiphop','disco','metal','pop','reggae','rock'])].drop(['filename'],axis=1)\n",
    "dataset.shape"
   ]
  },
  {
   "cell_type": "code",
   "execution_count": 228,
   "metadata": {},
   "outputs": [
    {
     "data": {
      "text/plain": [
       "(1797, 28)"
      ]
     },
     "execution_count": 228,
     "metadata": {},
     "output_type": "execute_result"
    }
   ],
   "source": [
    "#All 10 genres\n",
    "dataset = data[data['genre'].isin(['jazz', 'classical', 'blues', 'country', 'hiphop','pop'])].drop(['filename'],axis=1)\n",
    "dataset.shape"
   ]
  },
  {
   "cell_type": "code",
   "execution_count": 3,
   "metadata": {},
   "outputs": [
    {
     "data": {
      "text/plain": [
       "(1497, 28)"
      ]
     },
     "execution_count": 3,
     "metadata": {},
     "output_type": "execute_result"
    }
   ],
   "source": [
    "#Combination 1\n",
    "dataset = data[data['genre'].isin(['jazz', 'classical', 'blues', 'country', 'hiphop'])].drop(['filename'],axis=1)\n",
    "dataset.shape"
   ]
  },
  {
   "cell_type": "code",
   "execution_count": 212,
   "metadata": {},
   "outputs": [
    {
     "data": {
      "text/plain": [
       "(1497, 28)"
      ]
     },
     "execution_count": 212,
     "metadata": {},
     "output_type": "execute_result"
    }
   ],
   "source": [
    "#Combination 2\n",
    "dataset = data[data['genre'].isin(['jazz', 'pop', 'blues', 'country', 'hiphop'])].drop(['filename'],axis=1)\n",
    "dataset.shape"
   ]
  },
  {
   "cell_type": "code",
   "execution_count": 4,
   "metadata": {},
   "outputs": [],
   "source": [
    "from sklearn.model_selection import train_test_split\n",
    "from sklearn.preprocessing import LabelEncoder, StandardScaler\n",
    "from sklearn import preprocessing"
   ]
  },
  {
   "cell_type": "code",
   "execution_count": 5,
   "metadata": {},
   "outputs": [
    {
     "name": "stdout",
     "output_type": "stream",
     "text": [
      "[0 0 0 ... 4 4 4]\n"
     ]
    },
    {
     "data": {
      "text/plain": [
       "(1497,)"
      ]
     },
     "execution_count": 5,
     "metadata": {},
     "output_type": "execute_result"
    }
   ],
   "source": [
    "y = LabelEncoder().fit_transform(dataset.iloc[:,-1])\n",
    "print(y)\n",
    "y.shape"
   ]
  },
  {
   "cell_type": "code",
   "execution_count": 6,
   "metadata": {},
   "outputs": [
    {
     "name": "stdout",
     "output_type": "stream",
     "text": [
      "[[-0.13251554 -0.65307387 -0.11453394 ...  0.0785806  -0.12563547\n",
      "   0.89747518]\n",
      " [-0.11010468 -0.52101132 -0.08376836 ... -0.02468127 -0.03258611\n",
      "   0.71636755]\n",
      " [ 0.06034908 -0.33271923 -0.13735729 ...  0.03788734 -0.24626846\n",
      "   0.60844543]\n",
      " ...\n",
      " [-0.78505779 -0.79541251 -0.43956275 ... -0.5750611   0.44041709\n",
      "  -0.84992208]\n",
      " [-1.07591588 -0.8484125  -0.37335638 ...  0.55097387  1.96987773\n",
      "   0.80618627]\n",
      " [-1.36409004 -1.09403467 -0.83802076 ... -0.69249166  0.2382555\n",
      "  -0.11562557]]\n"
     ]
    },
    {
     "data": {
      "text/plain": [
       "(1497, 27)"
      ]
     },
     "execution_count": 6,
     "metadata": {},
     "output_type": "execute_result"
    }
   ],
   "source": [
    "x = StandardScaler().fit_transform(np.array(dataset.iloc[:, :-1], dtype = float))\n",
    "print(x)\n",
    "x.shape"
   ]
  },
  {
   "cell_type": "code",
   "execution_count": 7,
   "metadata": {},
   "outputs": [
    {
     "name": "stdout",
     "output_type": "stream",
     "text": [
      "Train set: (1197, 27) (1197,)\n",
      "Test set: (300, 27) (300,)\n"
     ]
    }
   ],
   "source": [
    "x_train, x_test, y_train, y_test = train_test_split(x,y,test_size=0.20,random_state=42)\n",
    "print ('Train set:', x_train.shape,  y_train.shape)\n",
    "print ('Test set:', x_test.shape,  y_test.shape)"
   ]
  },
  {
   "cell_type": "code",
   "execution_count": 1,
   "metadata": {},
   "outputs": [],
   "source": [
    "from sklearn import datasets\n",
    "from sklearn.metrics import accuracy_score\n",
    "from sklearn.ensemble import RandomForestClassifier"
   ]
  },
  {
   "cell_type": "code",
   "execution_count": 37,
   "metadata": {},
   "outputs": [
    {
     "name": "stdout",
     "output_type": "stream",
     "text": [
      "Random Forest's Accuracy: 0.890\n"
     ]
    }
   ],
   "source": [
    "model = RandomForestClassifier(n_estimators=400, max_depth=60)\n",
    "model.fit(x_train, y_train)\n",
    "print(\"Random Forest's Accuracy: %.3f\" % model.score(x_test,y_test))"
   ]
  },
  {
   "cell_type": "code",
   "execution_count": 20,
   "metadata": {},
   "outputs": [
    {
     "data": {
      "text/plain": [
       "0.8866666666666667"
      ]
     },
     "execution_count": 20,
     "metadata": {},
     "output_type": "execute_result"
    }
   ],
   "source": [
    "model = RandomForestClassifier(n_estimators=200) #n_estimators = No. of decision trees\n",
    "model.fit(x_train, y_train)\n",
    "model.score(x_test,y_test)"
   ]
  },
  {
   "cell_type": "code",
   "execution_count": 21,
   "metadata": {},
   "outputs": [
    {
     "data": {
      "text/plain": [
       "0.87"
      ]
     },
     "execution_count": 21,
     "metadata": {},
     "output_type": "execute_result"
    }
   ],
   "source": [
    "model = RandomForestClassifier(criterion=\"gini\", max_depth = 10)\n",
    "model.fit(x_train, y_train)\n",
    "model.score(x_test,y_test)"
   ]
  },
  {
   "cell_type": "code",
   "execution_count": 22,
   "metadata": {},
   "outputs": [
    {
     "name": "stdout",
     "output_type": "stream",
     "text": [
      "Accuracy: 0.870\n"
     ]
    }
   ],
   "source": [
    "y_pred = model.predict(x_test)\n",
    "print('Accuracy: %.3f' % accuracy_score(y_test, y_pred))"
   ]
  },
  {
   "cell_type": "code",
   "execution_count": 23,
   "metadata": {},
   "outputs": [
    {
     "name": "stdout",
     "output_type": "stream",
     "text": [
      "Random Forest's Accuracy:  0.87\n"
     ]
    }
   ],
   "source": [
    "from sklearn import metrics\n",
    "print(\"Random Forest's Accuracy: \", metrics.accuracy_score(y_test, y_pred))"
   ]
  },
  {
   "cell_type": "code",
   "execution_count": 38,
   "metadata": {},
   "outputs": [
    {
     "name": "stdout",
     "output_type": "stream",
     "text": [
      "              precision    recall  f1-score   support\n",
      "\n",
      "           0       0.89      0.91      0.90        56\n",
      "           1       0.92      0.98      0.95        59\n",
      "           2       0.82      0.87      0.85        54\n",
      "           3       0.94      0.86      0.90        71\n",
      "           4       0.86      0.83      0.85        60\n",
      "\n",
      "    accuracy                           0.89       300\n",
      "   macro avg       0.89      0.89      0.89       300\n",
      "weighted avg       0.89      0.89      0.89       300\n",
      "\n"
     ]
    }
   ],
   "source": [
    "y_predicted = model.predict(x_test)\n",
    "from sklearn.metrics import classification_report,confusion_matrix\n",
    "print(classification_report(y_test,y_predicted))"
   ]
  },
  {
   "cell_type": "code",
   "execution_count": 17,
   "metadata": {},
   "outputs": [
    {
     "data": {
      "text/plain": [
       "array([[50,  1,  1,  0,  4],\n",
       "       [ 0, 57,  0,  0,  2],\n",
       "       [ 3,  1, 45,  2,  3],\n",
       "       [ 1,  1,  8, 60,  1],\n",
       "       [ 4,  5,  6,  2, 43]], dtype=int64)"
      ]
     },
     "execution_count": 17,
     "metadata": {},
     "output_type": "execute_result"
    }
   ],
   "source": [
    "#Confusion matrix between tested(true) values and predicted values\n",
    "from sklearn.metrics import confusion_matrix\n",
    "cm = confusion_matrix(y_test, y_predicted)\n",
    "cm"
   ]
  },
  {
   "cell_type": "code",
   "execution_count": 40,
   "metadata": {},
   "outputs": [
    {
     "data": {
      "text/plain": [
       "Text(33.0, 0.5, 'Truth')"
      ]
     },
     "execution_count": 40,
     "metadata": {},
     "output_type": "execute_result"
    },
    {
     "data": {
      "image/png": "[encoded data removed]",
      "text/plain": [
       "<Figure size 432x288 with 2 Axes>"
      ]
     },
     "metadata": {
      "needs_background": "light"
     },
     "output_type": "display_data"
    }
   ],
   "source": [
    "#HeatMap for Combination1\n",
    "%matplotlib inline\n",
    "import matplotlib.pyplot as plt\n",
    "import seaborn as sn\n",
    "classes=['jazz', 'classical', 'blues', 'country', 'hiphop']\n",
    "sn.heatmap(cm, annot=True,cmap='Blues',xticklabels=classes, yticklabels=classes)\n",
    "plt.xlabel('Predicted')\n",
    "plt.ylabel('Truth')"
   ]
  },
  {
   "cell_type": "code",
   "execution_count": 227,
   "metadata": {},
   "outputs": [
    {
     "data": {
      "text/plain": [
       "Text(33.0, 0.5, 'Truth')"
      ]
     },
     "execution_count": 227,
     "metadata": {},
     "output_type": "execute_result"
    },
    {
     "data": {
      "image/png": "[encoded data removed]",
      "text/plain": [
       "<Figure size 432x288 with 2 Axes>"
      ]
     },
     "metadata": {
      "needs_background": "light"
     },
     "output_type": "display_data"
    }
   ],
   "source": [
    "#HeatMap for Combination2\n",
    "%matplotlib inline\n",
    "import matplotlib.pyplot as plt\n",
    "import seaborn as sn\n",
    "classes=['jazz', 'pop', 'blues', 'country', 'hiphop']\n",
    "sn.heatmap(cm, annot=True,cmap='Blues',xticklabels=classes, yticklabels=classes)\n",
    "plt.xlabel('Predicted')\n",
    "plt.ylabel('Truth')"
   ]
  }
 ],
 "metadata": {
  "kernelspec": {
   "display_name": "Python 3",
   "language": "python",
   "name": "python3"
  },
  "language_info": {
   "codemirror_mode": {
    "name": "ipython",
    "version": 3
   },
   "file_extension": ".py",
   "mimetype": "text/x-python",
   "name": "python",
   "nbconvert_exporter": "python",
   "pygments_lexer": "ipython3",
   "version": "3.8.5"
  }
 },
 "nbformat": 4,
 "nbformat_minor": 4
}
